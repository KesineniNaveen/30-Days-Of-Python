{
  "nbformat": 4,
  "nbformat_minor": 0,
  "metadata": {
    "colab": {
      "provenance": [],
      "authorship_tag": "ABX9TyOooBMmWbRoAkjN7BLr95BZ",
      "include_colab_link": true
    },
    "kernelspec": {
      "name": "python3",
      "display_name": "Python 3"
    },
    "language_info": {
      "name": "python"
    }
  },
  "cells": [
    {
      "cell_type": "markdown",
      "metadata": {
        "id": "view-in-github",
        "colab_type": "text"
      },
      "source": [
        "<a href=\"https://colab.research.google.com/github/KesineniNaveen/30-Days-Of-Python/blob/master/Variables.ipynb\" target=\"_parent\"><img src=\"https://colab.research.google.com/assets/colab-badge.svg\" alt=\"Open In Colab\"/></a>"
      ]
    },
    {
      "cell_type": "markdown",
      "source": [
        "**Variable** :-A variable is a name that refers to a value stored in memory. Variables are used to store data that can be referenced and manipulated throughout a program."
      ],
      "metadata": {
        "id": "LteQKe7pUwwq"
      }
    },
    {
      "cell_type": "markdown",
      "source": [
        "**Key Features of Variables in Python**\n",
        "\n",
        "Dynamic Typing: You don’t need to declare the type of a variable explicitly. Python automatically detects the data type based on the value assigned.\n",
        "\n",
        "Case Sensitivity: Variable names are case-sensitive (myVar and myvar are different variables).\n",
        "\n",
        "Naming Rules:\n",
        "\n",
        "Must start with a letter (a-z, A-Z) or an underscore _.\n",
        "\n",
        "Cannot start with a number.\n",
        "\n",
        "Can only contain letters, numbers, and underscores.\n",
        "\n",
        "Cannot use Python reserved keywords (e.g., if, for, class, etc.)."
      ],
      "metadata": {
        "id": "ovi55j6FVMG-"
      }
    },
    {
      "cell_type": "code",
      "execution_count": 1,
      "metadata": {
        "id": "Y5bvgYO5UoMW"
      },
      "outputs": [],
      "source": [
        "Variavble_name = \"Value\""
      ]
    },
    {
      "cell_type": "code",
      "source": [
        "print(Variavble_name)"
      ],
      "metadata": {
        "colab": {
          "base_uri": "https://localhost:8080/",
          "height": 0
        },
        "id": "3_3fl0XuV3b7",
        "outputId": "4bc2087b-5fa5-4018-b252-ab61d29aed22"
      },
      "execution_count": 2,
      "outputs": [
        {
          "output_type": "stream",
          "name": "stdout",
          "text": [
            "Value\n"
          ]
        }
      ]
    },
    {
      "cell_type": "code",
      "source": [
        "a = 10\n",
        "b = 1.5\n",
        "c = \"Naveen\"\n",
        "d = True"
      ],
      "metadata": {
        "id": "QOj2lhpQV5xp"
      },
      "execution_count": 4,
      "outputs": []
    },
    {
      "cell_type": "code",
      "source": [
        "print(a)\n",
        "print(b)\n",
        "print(c)\n",
        "print(d)"
      ],
      "metadata": {
        "colab": {
          "base_uri": "https://localhost:8080/",
          "height": 0
        },
        "id": "nZU4bOf8WCtI",
        "outputId": "08532358-90c7-4f3b-df90-97b3e143d24c"
      },
      "execution_count": 5,
      "outputs": [
        {
          "output_type": "stream",
          "name": "stdout",
          "text": [
            "10\n",
            "1.5\n",
            "Naveen\n",
            "True\n"
          ]
        }
      ]
    },
    {
      "cell_type": "markdown",
      "source": [
        "Reassigning Variables"
      ],
      "metadata": {
        "id": "kXKl33-xWZzI"
      }
    },
    {
      "cell_type": "code",
      "source": [
        "x = 5\n",
        "x= \"Naveen\"\n",
        "print(x)"
      ],
      "metadata": {
        "colab": {
          "base_uri": "https://localhost:8080/",
          "height": 0
        },
        "id": "2eQPIm6oWcRV",
        "outputId": "3389b22b-0a4d-4a56-b8ab-044770e22925"
      },
      "execution_count": 6,
      "outputs": [
        {
          "output_type": "stream",
          "name": "stdout",
          "text": [
            "Naveen\n"
          ]
        }
      ]
    },
    {
      "cell_type": "markdown",
      "source": [
        "Multiple Assignments\n",
        "\n",
        "You can assign values to multiple variables in one line.\n",
        "\n",
        "\n",
        "Examples:"
      ],
      "metadata": {
        "id": "I-yDejc6WsX0"
      }
    },
    {
      "cell_type": "code",
      "source": [
        "a = b = c = 10\n",
        "print(a)\n",
        "print(b)\n",
        "print(c)"
      ],
      "metadata": {
        "colab": {
          "base_uri": "https://localhost:8080/",
          "height": 0
        },
        "id": "k1pOxQcdW2R2",
        "outputId": "665a95b8-1702-41c0-eb50-b30ed1a17ccc"
      },
      "execution_count": 8,
      "outputs": [
        {
          "output_type": "stream",
          "name": "stdout",
          "text": [
            "10\n",
            "10\n",
            "10\n"
          ]
        }
      ]
    },
    {
      "cell_type": "code",
      "source": [
        "x,y,z = 1,2,3"
      ],
      "metadata": {
        "id": "b2m0oSYVXAoz"
      },
      "execution_count": 10,
      "outputs": []
    },
    {
      "cell_type": "code",
      "source": [
        "print(x)\n",
        "print(y)\n",
        "print(z)"
      ],
      "metadata": {
        "colab": {
          "base_uri": "https://localhost:8080/",
          "height": 0
        },
        "id": "dew4ilkVXDNL",
        "outputId": "8ebc07c4-6d59-4bd3-cfc2-c41f7158f507"
      },
      "execution_count": 11,
      "outputs": [
        {
          "output_type": "stream",
          "name": "stdout",
          "text": [
            "1\n",
            "2\n",
            "3\n"
          ]
        }
      ]
    },
    {
      "cell_type": "markdown",
      "source": [
        "Variable Types\n",
        "\n",
        "Variables can hold different types of data, and Python will determine the type automatically.\n",
        "\n",
        "\n",
        "Example:"
      ],
      "metadata": {
        "id": "B7sBlVuAXMX-"
      }
    },
    {
      "cell_type": "code",
      "source": [
        "number = 100\n",
        "float = 52.63\n",
        "complex = 5j+1\n",
        "boolean = True\n",
        "text = \"Naveen\""
      ],
      "metadata": {
        "id": "6wYgp9kJXLvW"
      },
      "execution_count": 12,
      "outputs": []
    },
    {
      "cell_type": "code",
      "source": [
        "print(type(number))\n",
        "print(type(float))\n",
        "print(type(complex))\n",
        "print(type(boolean))\n",
        "print(type(text))"
      ],
      "metadata": {
        "colab": {
          "base_uri": "https://localhost:8080/",
          "height": 0
        },
        "id": "yWPLhwTEXfcA",
        "outputId": "df1b610c-d6ab-4c23-d582-d8a398ae8a67"
      },
      "execution_count": 14,
      "outputs": [
        {
          "output_type": "stream",
          "name": "stdout",
          "text": [
            "<class 'int'>\n",
            "<class 'float'>\n",
            "<class 'complex'>\n",
            "<class 'bool'>\n",
            "<class 'str'>\n"
          ]
        }
      ]
    },
    {
      "cell_type": "markdown",
      "source": [
        "Global and Local Variables\n",
        "\n",
        "Variables can be local (defined inside a function) or global (defined outside any function and accessible throughout the program).\n",
        "\n",
        "\n",
        "Example:"
      ],
      "metadata": {
        "id": "z4E-Ask6XlrP"
      }
    },
    {
      "cell_type": "code",
      "source": [
        "# Global Variable\n",
        "X = \" I am Global\"\n",
        "\n",
        "def my_function():\n",
        "    # Local Variable\n",
        "    y = \" I am Local\"\n",
        "    print(y)\n",
        "\n",
        "my_function()\n",
        "print(X)"
      ],
      "metadata": {
        "colab": {
          "base_uri": "https://localhost:8080/",
          "height": 0
        },
        "id": "ff7OmKbhX1i2",
        "outputId": "14853742-5621-443c-dbef-8df65c7bc3bb"
      },
      "execution_count": 15,
      "outputs": [
        {
          "output_type": "stream",
          "name": "stdout",
          "text": [
            " I am Local\n",
            " I am Global\n"
          ]
        }
      ]
    },
    {
      "cell_type": "markdown",
      "source": [
        "Using the global Keyword\n",
        "\n",
        "The global keyword is used to modify a global variable inside a function.\n",
        "\n",
        "\n",
        "Example:"
      ],
      "metadata": {
        "id": "OSJtc8_zYitp"
      }
    },
    {
      "cell_type": "code",
      "source": [
        "X = 10\n",
        "def My_function():\n",
        "    global X\n",
        "    X = 20\n",
        "    print(X)\n",
        "\n",
        "My_function()\n",
        "print(X)"
      ],
      "metadata": {
        "colab": {
          "base_uri": "https://localhost:8080/",
          "height": 0
        },
        "id": "HSmd5iM9Yn4h",
        "outputId": "73fedb19-d257-4f81-a79f-b70fe4f7b768"
      },
      "execution_count": 16,
      "outputs": [
        {
          "output_type": "stream",
          "name": "stdout",
          "text": [
            "20\n",
            "20\n"
          ]
        }
      ]
    },
    {
      "cell_type": "markdown",
      "source": [
        "Constants in Python\n",
        "\n",
        "Python doesn’t have a dedicated syntax for constants. By convention, variable names in ALL CAPS are used to indicate constants.\n",
        "\n",
        "\n",
        "Example:"
      ],
      "metadata": {
        "id": "nnNHHs_XeM0N"
      }
    },
    {
      "cell_type": "code",
      "source": [
        "PI = 3.14159  # Constant for the value of Pi\n",
        "GRAVITY = 9.8  # Constant for acceleration due to gravity"
      ],
      "metadata": {
        "id": "VUZE8RGseeiU"
      },
      "execution_count": 17,
      "outputs": []
    },
    {
      "cell_type": "code",
      "source": [
        "PI\n"
      ],
      "metadata": {
        "colab": {
          "base_uri": "https://localhost:8080/",
          "height": 0
        },
        "id": "-ctJiLqcekH9",
        "outputId": "d2c72c58-d7c8-46ae-8d57-ff3c58c2e13b"
      },
      "execution_count": 19,
      "outputs": [
        {
          "output_type": "execute_result",
          "data": {
            "text/plain": [
              "9.8"
            ]
          },
          "metadata": {},
          "execution_count": 19
        }
      ]
    },
    {
      "cell_type": "code",
      "source": [
        "GRAVITY"
      ],
      "metadata": {
        "colab": {
          "base_uri": "https://localhost:8080/",
          "height": 0
        },
        "id": "7Qy-gQXAeqt2",
        "outputId": "f34d89a2-44a8-42ec-fd3b-76384bd2cf1a"
      },
      "execution_count": 20,
      "outputs": [
        {
          "output_type": "execute_result",
          "data": {
            "text/plain": [
              "9.8"
            ]
          },
          "metadata": {},
          "execution_count": 20
        }
      ]
    },
    {
      "cell_type": "markdown",
      "source": [
        "Type Casting (Converting Variable Types)\n",
        "\n",
        "You can convert one data type to another using type casting.\n",
        "\n",
        "\n",
        "Example:"
      ],
      "metadata": {
        "id": "H6uJvsgnes5h"
      }
    },
    {
      "cell_type": "code",
      "source": [
        "# Converting to int\n",
        "x = int(3.5)  # 3\n",
        "print(x)\n"
      ],
      "metadata": {
        "colab": {
          "base_uri": "https://localhost:8080/",
          "height": 0
        },
        "id": "uKr0NHJ-ezGq",
        "outputId": "68b6a9e0-27be-42ec-e78f-ffdf72a5dee3"
      },
      "execution_count": 22,
      "outputs": [
        {
          "output_type": "stream",
          "name": "stdout",
          "text": [
            "3\n"
          ]
        }
      ]
    },
    {
      "cell_type": "code",
      "source": [
        "\n",
        "# Converting to string\n",
        "z = str(100)  # \"100\"\n",
        "print(z)"
      ],
      "metadata": {
        "colab": {
          "base_uri": "https://localhost:8080/",
          "height": 0
        },
        "id": "DSu_eSwafEEb",
        "outputId": "d1de844e-dbd4-4165-c81c-ec72663a7737"
      },
      "execution_count": 25,
      "outputs": [
        {
          "output_type": "stream",
          "name": "stdout",
          "text": [
            "100\n"
          ]
        }
      ]
    },
    {
      "cell_type": "markdown",
      "source": [
        "Deleting Variables\n",
        "\n",
        "You can delete a variable using the del keyword.\n",
        "\n",
        "Example:"
      ],
      "metadata": {
        "id": "hZcL9d9RgAus"
      }
    },
    {
      "cell_type": "code",
      "source": [
        "x = 50\n",
        "del x\n",
        "# print(x)  # This will raise a NameError since x is deleted"
      ],
      "metadata": {
        "id": "hwFlyNKZgCK8"
      },
      "execution_count": 29,
      "outputs": []
    }
  ]
}